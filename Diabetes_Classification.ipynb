{
 "cells": [
  {
   "cell_type": "code",
   "execution_count": 1,
   "id": "e58496c7",
   "metadata": {},
   "outputs": [],
   "source": [
    "# Importing important libraries\n",
    "import pandas as pd\n",
    "import numpy as np\n",
    "import os\n",
    "import matplotlib.pyplot as plt\n",
    "import seaborn as sns\n",
    "%matplotlib inline"
   ]
  },
  {
   "cell_type": "code",
   "execution_count": 3,
   "id": "6f82e948",
   "metadata": {},
   "outputs": [
    {
     "data": {
      "text/plain": [
       "['.DS_Store',\n",
       " 'heart.csv',\n",
       " 'insurance.csv',\n",
       " 'Hospital Analytics Data.csv',\n",
       " 'train_data.csv',\n",
       " 'diabetes.csv',\n",
       " 'insurance.numbers',\n",
       " 'test_data.csv']"
      ]
     },
     "execution_count": 3,
     "metadata": {},
     "output_type": "execute_result"
    }
   ],
   "source": [
    "# Retrieving dataset\n",
    "os.getcwd()\n",
    "os.chdir('/Users/jmunizbecerra/Desktop/Datasets/Resume Projects')\n",
    "os.listdir()"
   ]
  },
  {
   "cell_type": "markdown",
   "id": "f9a09701",
   "metadata": {},
   "source": [
    "# Glimpse of Data"
   ]
  },
  {
   "cell_type": "code",
   "execution_count": 4,
   "id": "ae5ef0fe",
   "metadata": {},
   "outputs": [],
   "source": [
    "# Creating dataframe\n",
    "df_diabetes = pd.read_csv('diabetes.csv')"
   ]
  },
  {
   "cell_type": "code",
   "execution_count": 4,
   "id": "027fecd4",
   "metadata": {},
   "outputs": [
    {
     "data": {
      "text/plain": [
       "Index(['Pregnancies', 'Glucose', 'BloodPressure', 'SkinThickness', 'Insulin',\n",
       "       'BMI', 'DiabetesPedigreeFunction', 'Age', 'Outcome'],\n",
       "      dtype='object')"
      ]
     },
     "execution_count": 4,
     "metadata": {},
     "output_type": "execute_result"
    }
   ],
   "source": [
    "# Assessing dataframe columns\n",
    "df.columns"
   ]
  },
  {
   "cell_type": "code",
   "execution_count": 5,
   "id": "2b51a864",
   "metadata": {},
   "outputs": [
    {
     "data": {
      "text/plain": [
       "(768, 9)"
      ]
     },
     "execution_count": 5,
     "metadata": {},
     "output_type": "execute_result"
    }
   ],
   "source": [
    "# Learning of dataframe size\n",
    "df.shape"
   ]
  },
  {
   "cell_type": "code",
   "execution_count": 6,
   "id": "c8312c3b",
   "metadata": {},
   "outputs": [
    {
     "data": {
      "text/plain": [
       "Pregnancies                 0\n",
       "Glucose                     0\n",
       "BloodPressure               0\n",
       "SkinThickness               0\n",
       "Insulin                     0\n",
       "BMI                         0\n",
       "DiabetesPedigreeFunction    0\n",
       "Age                         0\n",
       "Outcome                     0\n",
       "dtype: int64"
      ]
     },
     "execution_count": 6,
     "metadata": {},
     "output_type": "execute_result"
    }
   ],
   "source": [
    "# Checking for any missing data\n",
    "df.isna().sum()"
   ]
  },
  {
   "cell_type": "code",
   "execution_count": 7,
   "id": "7afc42c1",
   "metadata": {},
   "outputs": [
    {
     "data": {
      "text/plain": [
       "Pregnancies                   int64\n",
       "Glucose                       int64\n",
       "BloodPressure                 int64\n",
       "SkinThickness                 int64\n",
       "Insulin                       int64\n",
       "BMI                         float64\n",
       "DiabetesPedigreeFunction    float64\n",
       "Age                           int64\n",
       "Outcome                       int64\n",
       "dtype: object"
      ]
     },
     "execution_count": 7,
     "metadata": {},
     "output_type": "execute_result"
    }
   ],
   "source": [
    "# Getting Data Types\n",
    "df.dtypes"
   ]
  },
  {
   "cell_type": "code",
   "execution_count": 8,
   "id": "a1a681f8",
   "metadata": {},
   "outputs": [],
   "source": [
    "# Renaming of DiabetesPedigreeFunction to DPF\n",
    "df = df.rename({'DiabetesPedigreeFunction' : 'DPF'}, axis='columns')"
   ]
  },
  {
   "cell_type": "markdown",
   "id": "6b12f570",
   "metadata": {},
   "source": [
    "# Visualizing Data"
   ]
  },
  {
   "cell_type": "code",
   "execution_count": 30,
   "id": "769bd327",
   "metadata": {},
   "outputs": [
    {
     "data": {
      "text/plain": [
       "(array([ 35.,   0.,   0.,   0.,   1.,   0.,   2.,   1.,   1.,  11.,  24.,\n",
       "         46.,  72., 125., 101., 144.,  70.,  50.,  55.,  11.,   7.,   5.,\n",
       "          5.,   1.,   1.]),\n",
       " array([  0.  ,   4.88,   9.76,  14.64,  19.52,  24.4 ,  29.28,  34.16,\n",
       "         39.04,  43.92,  48.8 ,  53.68,  58.56,  63.44,  68.32,  73.2 ,\n",
       "         78.08,  82.96,  87.84,  92.72,  97.6 , 102.48, 107.36, 112.24,\n",
       "        117.12, 122.  ]),\n",
       " <BarContainer object of 25 artists>)"
      ]
     },
     "execution_count": 30,
     "metadata": {},
     "output_type": "execute_result"
    },
    {
     "data": {
      "image/png": "[encoded data removed]",
      "text/plain": [
       "<Figure size 432x288 with 1 Axes>"
      ]
     },
     "metadata": {
      "needs_background": "light"
     },
     "output_type": "display_data"
    }
   ],
   "source": [
    "# Histogram plot of blood pressue\n",
    "plt.hist(df.BloodPressure, bins=25)"
   ]
  },
  {
   "cell_type": "code",
   "execution_count": 31,
   "id": "4d2ba7bf",
   "metadata": {},
   "outputs": [
    {
     "data": {
      "text/plain": [
       "(array([ 11.,   0.,   0.,   0.,   0.,   0.,   4.,  22.,  53.,  92.,  94.,\n",
       "        112., 126.,  89.,  71.,  37.,  30.,  14.,   5.,   4.,   1.,   1.,\n",
       "          1.,   0.,   1.]),\n",
       " array([ 0.   ,  2.684,  5.368,  8.052, 10.736, 13.42 , 16.104, 18.788,\n",
       "        21.472, 24.156, 26.84 , 29.524, 32.208, 34.892, 37.576, 40.26 ,\n",
       "        42.944, 45.628, 48.312, 50.996, 53.68 , 56.364, 59.048, 61.732,\n",
       "        64.416, 67.1  ]),\n",
       " <BarContainer object of 25 artists>)"
      ]
     },
     "execution_count": 31,
     "metadata": {},
     "output_type": "execute_result"
    },
    {
     "data": {
      "image/png": "[encoded data removed]",
      "text/plain": [
       "<Figure size 432x288 with 1 Axes>"
      ]
     },
     "metadata": {
      "needs_background": "light"
     },
     "output_type": "display_data"
    }
   ],
   "source": [
    "# Histogram plot of BMI\n",
    "plt.hist(df.BMI, bins=25)"
   ]
  },
  {
   "cell_type": "code",
   "execution_count": 5,
   "id": "d88a889d",
   "metadata": {},
   "outputs": [
    {
     "data": {
      "text/plain": [
       "(array([ 5.,  0.,  0.,  0.,  0.,  1.,  0.,  5.,  9., 21., 48., 71., 85.,\n",
       "        89., 74., 77., 57., 50., 42., 32., 26., 21., 23., 16., 16.]),\n",
       " array([  0.  ,   7.96,  15.92,  23.88,  31.84,  39.8 ,  47.76,  55.72,\n",
       "         63.68,  71.64,  79.6 ,  87.56,  95.52, 103.48, 111.44, 119.4 ,\n",
       "        127.36, 135.32, 143.28, 151.24, 159.2 , 167.16, 175.12, 183.08,\n",
       "        191.04, 199.  ]),\n",
       " <BarContainer object of 25 artists>)"
      ]
     },
     "execution_count": 5,
     "metadata": {},
     "output_type": "execute_result"
    },
    {
     "data": {
      "image/png": "[encoded data removed]",
      "text/plain": [
       "<Figure size 432x288 with 1 Axes>"
      ]
     },
     "metadata": {
      "needs_background": "light"
     },
     "output_type": "display_data"
    }
   ],
   "source": [
    "# Histogram plot of Glucose\n",
    "plt.hist(df_diabetes.Glucose, bins=25)"
   ]
  },
  {
   "cell_type": "code",
   "execution_count": 32,
   "id": "54be35a7",
   "metadata": {},
   "outputs": [
    {
     "data": {
      "text/plain": [
       "array([[1.        , 0.28180529],\n",
       "       [0.28180529, 1.        ]])"
      ]
     },
     "execution_count": 32,
     "metadata": {},
     "output_type": "execute_result"
    }
   ],
   "source": [
    "# Pearson Correlation Calculation between BMI and Blood Pressure\n",
    "np.corrcoef(df.BMI, df.BloodPressure)"
   ]
  },
  {
   "cell_type": "code",
   "execution_count": 35,
   "id": "7a3bc360",
   "metadata": {},
   "outputs": [
    {
     "data": {
      "text/plain": [
       "(array([227.,   0.,   4.,  29.,  26.,  52.,  61.,  44.,  60.,  77.,  57.,\n",
       "         41.,  42.,  25.,  11.,   6.,   3.,   0.,   1.,   1.,   0.,   0.,\n",
       "          0.,   0.,   0.,   0.,   0.,   0.,   0.,   1.]),\n",
       " array([ 0. ,  3.3,  6.6,  9.9, 13.2, 16.5, 19.8, 23.1, 26.4, 29.7, 33. ,\n",
       "        36.3, 39.6, 42.9, 46.2, 49.5, 52.8, 56.1, 59.4, 62.7, 66. , 69.3,\n",
       "        72.6, 75.9, 79.2, 82.5, 85.8, 89.1, 92.4, 95.7, 99. ]),\n",
       " <BarContainer object of 30 artists>)"
      ]
     },
     "execution_count": 35,
     "metadata": {},
     "output_type": "execute_result"
    },
    {
     "data": {
      "image/png": "[encoded data removed]",
      "text/plain": [
       "<Figure size 432x288 with 1 Axes>"
      ]
     },
     "metadata": {
      "needs_background": "light"
     },
     "output_type": "display_data"
    }
   ],
   "source": [
    "# Histogram plot of Skin Thickness\n",
    "plt.hist(df.SkinThickness, bins=30)"
   ]
  },
  {
   "cell_type": "code",
   "execution_count": 36,
   "id": "6dab8477",
   "metadata": {},
   "outputs": [
    {
     "data": {
      "text/plain": [
       "0.3925732041590385"
      ]
     },
     "execution_count": 36,
     "metadata": {},
     "output_type": "execute_result"
    }
   ],
   "source": [
    "# Pearson Correlation Calculation between BMI and Skin Thickness\n",
    "np.corrcoef(df.BMI, df.SkinThickness)[0, 1]"
   ]
  },
  {
   "cell_type": "code",
   "execution_count": 37,
   "id": "1ae42ca1",
   "metadata": {},
   "outputs": [
    {
     "data": {
      "text/plain": [
       "<AxesSubplot:title={'center':'BMI'}>"
      ]
     },
     "execution_count": 37,
     "metadata": {},
     "output_type": "execute_result"
    },
    {
     "data": {
      "image/png": "[encoded data removed]",
      "text/plain": [
       "<Figure size 432x288 with 1 Axes>"
      ]
     },
     "metadata": {
      "needs_background": "light"
     },
     "output_type": "display_data"
    }
   ],
   "source": [
    "# Boxplot of BMI\n",
    "df['BMI'].plot(kind='box', title='BMI')"
   ]
  },
  {
   "cell_type": "code",
   "execution_count": 7,
   "id": "b50a24f8",
   "metadata": {},
   "outputs": [
    {
     "data": {
      "text/plain": [
       "<AxesSubplot:title={'center':'Glucose'}>"
      ]
     },
     "execution_count": 7,
     "metadata": {},
     "output_type": "execute_result"
    },
    {
     "data": {
      "image/png": "[encoded data removed]",
      "text/plain": [
       "<Figure size 432x288 with 1 Axes>"
      ]
     },
     "metadata": {
      "needs_background": "light"
     },
     "output_type": "display_data"
    }
   ],
   "source": [
    "# Boxplot of Glucose\n",
    "df_diabetes['Glucose'].plot(kind='box', title='Glucose')"
   ]
  },
  {
   "cell_type": "code",
   "execution_count": 56,
   "id": "8870ed5f",
   "metadata": {},
   "outputs": [
    {
     "data": {
      "text/plain": [
       "0.25    62.0\n",
       "0.50    72.0\n",
       "0.75    80.0\n",
       "Name: BloodPressure, dtype: float64"
      ]
     },
     "execution_count": 56,
     "metadata": {},
     "output_type": "execute_result"
    },
    {
     "data": {
      "image/png": "[encoded data removed]",
      "text/plain": [
       "<Figure size 432x288 with 1 Axes>"
      ]
     },
     "metadata": {
      "needs_background": "light"
     },
     "output_type": "display_data"
    }
   ],
   "source": [
    "# Boxplot of blood pressure\n",
    "df['BloodPressure'].plot(kind='box', title='BP')\n",
    "df.BloodPressure.quantile([0.25, 0.5, 0.75])"
   ]
  },
  {
   "cell_type": "code",
   "execution_count": 64,
   "id": "9fc26e82",
   "metadata": {},
   "outputs": [
    {
     "name": "stderr",
     "output_type": "stream",
     "text": [
      "/Library/Frameworks/Python.framework/Versions/3.10/lib/python3.10/site-packages/seaborn/distributions.py:2619: FutureWarning: `distplot` is a deprecated function and will be removed in a future version. Please adapt your code to use either `displot` (a figure-level function with similar flexibility) or `histplot` (an axes-level function for histograms).\n",
      "  warnings.warn(msg, FutureWarning)\n"
     ]
    },
    {
     "data": {
      "text/plain": [
       "<AxesSubplot:xlabel='BMI', ylabel='Density'>"
      ]
     },
     "execution_count": 64,
     "metadata": {},
     "output_type": "execute_result"
    },
    {
     "data": {
      "image/png": "[encoded data removed]",
      "text/plain": [
       "<Figure size 432x288 with 1 Axes>"
      ]
     },
     "metadata": {
      "needs_background": "light"
     },
     "output_type": "display_data"
    }
   ],
   "source": [
    "# Distribution plot of BMI\n",
    "sns.distplot(df_diabetes.BMI)"
   ]
  },
  {
   "cell_type": "code",
   "execution_count": 65,
   "id": "1528d286",
   "metadata": {},
   "outputs": [
    {
     "data": {
      "text/plain": [
       "<seaborn.axisgrid.JointGrid at 0x1478ef940>"
      ]
     },
     "execution_count": 65,
     "metadata": {},
     "output_type": "execute_result"
    },
    {
     "data": {
      "image/png": "[encoded data removed]",
      "text/plain": [
       "<Figure size 432x432 with 3 Axes>"
      ]
     },
     "metadata": {
      "needs_background": "light"
     },
     "output_type": "display_data"
    }
   ],
   "source": [
    "# Joint plot of BMI and Blood Pressure\n",
    "sns.jointplot(x='BMI', y='BloodPressure', data=df_diabetes)"
   ]
  },
  {
   "cell_type": "code",
   "execution_count": 66,
   "id": "0b777782",
   "metadata": {},
   "outputs": [
    {
     "data": {
      "text/plain": [
       "<seaborn.axisgrid.JointGrid at 0x17f445b40>"
      ]
     },
     "execution_count": 66,
     "metadata": {},
     "output_type": "execute_result"
    },
    {
     "data": {
      "image/png": "[encoded data removed]",
      "text/plain": [
       "<Figure size 432x432 with 3 Axes>"
      ]
     },
     "metadata": {
      "needs_background": "light"
     },
     "output_type": "display_data"
    }
   ],
   "source": [
    "# Joint plot of BMI and Skin Thickness\n",
    "sns.jointplot(x='BMI', y='SkinThickness', data=df_diabetes)"
   ]
  },
  {
   "cell_type": "markdown",
   "id": "93c00d39",
   "metadata": {},
   "source": [
    "# Analyzing Outliers"
   ]
  },
  {
   "cell_type": "code",
   "execution_count": 12,
   "id": "479c3e3c",
   "metadata": {},
   "outputs": [
    {
     "data": {
      "text/plain": [
       "69.10546875"
      ]
     },
     "execution_count": 12,
     "metadata": {},
     "output_type": "execute_result"
    }
   ],
   "source": [
    "# Assessing outliers for Blood Pressure and BMI\n",
    "\n",
    "\n",
    "# Blood Pressure mean\n",
    "df_diabetes.BloodPressure.mean()"
   ]
  },
  {
   "cell_type": "code",
   "execution_count": 14,
   "id": "f232f52a",
   "metadata": {},
   "outputs": [
    {
     "data": {
      "text/plain": [
       "31.992578124999998"
      ]
     },
     "execution_count": 14,
     "metadata": {},
     "output_type": "execute_result"
    }
   ],
   "source": [
    "# BMI mean\n",
    "df_diabetes.BMI.mean()"
   ]
  },
  {
   "cell_type": "code",
   "execution_count": 15,
   "id": "050d00da",
   "metadata": {},
   "outputs": [
    {
     "data": {
      "text/plain": [
       "19.355807170644777"
      ]
     },
     "execution_count": 15,
     "metadata": {},
     "output_type": "execute_result"
    }
   ],
   "source": [
    "# Blood Pressure standard deviation\n",
    "df_diabetes.BloodPressure.std()"
   ]
  },
  {
   "cell_type": "code",
   "execution_count": 16,
   "id": "9638375a",
   "metadata": {},
   "outputs": [
    {
     "data": {
      "text/plain": [
       "7.884160320375446"
      ]
     },
     "execution_count": 16,
     "metadata": {},
     "output_type": "execute_result"
    }
   ],
   "source": [
    "# BMI standard deviation\n",
    "df_diabetes.BMI.std()"
   ]
  },
  {
   "cell_type": "code",
   "execution_count": 38,
   "id": "1124b3f1",
   "metadata": {},
   "outputs": [
    {
     "data": {
      "text/html": [
       "<div>\n",
       "<style scoped>\n",
       "    .dataframe tbody tr th:only-of-type {\n",
       "        vertical-align: middle;\n",
       "    }\n",
       "\n",
       "    .dataframe tbody tr th {\n",
       "        vertical-align: top;\n",
       "    }\n",
       "\n",
       "    .dataframe thead th {\n",
       "        text-align: right;\n",
       "    }\n",
       "</style>\n",
       "<table border=\"1\" class=\"dataframe\">\n",
       "  <thead>\n",
       "    <tr style=\"text-align: right;\">\n",
       "      <th></th>\n",
       "      <th>Pregnancies</th>\n",
       "      <th>Glucose</th>\n",
       "      <th>BloodPressure</th>\n",
       "      <th>SkinThickness</th>\n",
       "      <th>Insulin</th>\n",
       "      <th>BMI</th>\n",
       "      <th>DiabetesPedigreeFunction</th>\n",
       "      <th>Age</th>\n",
       "      <th>Outcome</th>\n",
       "      <th>z-score-BMI</th>\n",
       "      <th>z-score-Blood-Pressure</th>\n",
       "    </tr>\n",
       "  </thead>\n",
       "  <tbody>\n",
       "    <tr>\n",
       "      <th>0</th>\n",
       "      <td>6</td>\n",
       "      <td>148</td>\n",
       "      <td>72</td>\n",
       "      <td>35</td>\n",
       "      <td>0</td>\n",
       "      <td>33.6</td>\n",
       "      <td>0.627</td>\n",
       "      <td>50</td>\n",
       "      <td>1</td>\n",
       "      <td>0.203880</td>\n",
       "      <td>0.149543</td>\n",
       "    </tr>\n",
       "    <tr>\n",
       "      <th>1</th>\n",
       "      <td>1</td>\n",
       "      <td>85</td>\n",
       "      <td>66</td>\n",
       "      <td>29</td>\n",
       "      <td>0</td>\n",
       "      <td>26.6</td>\n",
       "      <td>0.351</td>\n",
       "      <td>31</td>\n",
       "      <td>0</td>\n",
       "      <td>-0.683976</td>\n",
       "      <td>-0.160441</td>\n",
       "    </tr>\n",
       "    <tr>\n",
       "      <th>2</th>\n",
       "      <td>8</td>\n",
       "      <td>183</td>\n",
       "      <td>64</td>\n",
       "      <td>0</td>\n",
       "      <td>0</td>\n",
       "      <td>23.3</td>\n",
       "      <td>0.672</td>\n",
       "      <td>32</td>\n",
       "      <td>1</td>\n",
       "      <td>-1.102537</td>\n",
       "      <td>-0.263769</td>\n",
       "    </tr>\n",
       "    <tr>\n",
       "      <th>3</th>\n",
       "      <td>1</td>\n",
       "      <td>89</td>\n",
       "      <td>66</td>\n",
       "      <td>23</td>\n",
       "      <td>94</td>\n",
       "      <td>28.1</td>\n",
       "      <td>0.167</td>\n",
       "      <td>21</td>\n",
       "      <td>0</td>\n",
       "      <td>-0.493721</td>\n",
       "      <td>-0.160441</td>\n",
       "    </tr>\n",
       "    <tr>\n",
       "      <th>4</th>\n",
       "      <td>0</td>\n",
       "      <td>137</td>\n",
       "      <td>40</td>\n",
       "      <td>35</td>\n",
       "      <td>168</td>\n",
       "      <td>43.1</td>\n",
       "      <td>2.288</td>\n",
       "      <td>33</td>\n",
       "      <td>1</td>\n",
       "      <td>1.408828</td>\n",
       "      <td>-1.503707</td>\n",
       "    </tr>\n",
       "    <tr>\n",
       "      <th>...</th>\n",
       "      <td>...</td>\n",
       "      <td>...</td>\n",
       "      <td>...</td>\n",
       "      <td>...</td>\n",
       "      <td>...</td>\n",
       "      <td>...</td>\n",
       "      <td>...</td>\n",
       "      <td>...</td>\n",
       "      <td>...</td>\n",
       "      <td>...</td>\n",
       "      <td>...</td>\n",
       "    </tr>\n",
       "    <tr>\n",
       "      <th>763</th>\n",
       "      <td>10</td>\n",
       "      <td>101</td>\n",
       "      <td>76</td>\n",
       "      <td>48</td>\n",
       "      <td>180</td>\n",
       "      <td>32.9</td>\n",
       "      <td>0.171</td>\n",
       "      <td>63</td>\n",
       "      <td>0</td>\n",
       "      <td>0.115094</td>\n",
       "      <td>0.356200</td>\n",
       "    </tr>\n",
       "    <tr>\n",
       "      <th>764</th>\n",
       "      <td>2</td>\n",
       "      <td>122</td>\n",
       "      <td>70</td>\n",
       "      <td>27</td>\n",
       "      <td>0</td>\n",
       "      <td>36.8</td>\n",
       "      <td>0.340</td>\n",
       "      <td>27</td>\n",
       "      <td>0</td>\n",
       "      <td>0.609757</td>\n",
       "      <td>0.046215</td>\n",
       "    </tr>\n",
       "    <tr>\n",
       "      <th>765</th>\n",
       "      <td>5</td>\n",
       "      <td>121</td>\n",
       "      <td>72</td>\n",
       "      <td>23</td>\n",
       "      <td>112</td>\n",
       "      <td>26.2</td>\n",
       "      <td>0.245</td>\n",
       "      <td>30</td>\n",
       "      <td>0</td>\n",
       "      <td>-0.734711</td>\n",
       "      <td>0.149543</td>\n",
       "    </tr>\n",
       "    <tr>\n",
       "      <th>766</th>\n",
       "      <td>1</td>\n",
       "      <td>126</td>\n",
       "      <td>60</td>\n",
       "      <td>0</td>\n",
       "      <td>0</td>\n",
       "      <td>30.1</td>\n",
       "      <td>0.349</td>\n",
       "      <td>47</td>\n",
       "      <td>1</td>\n",
       "      <td>-0.240048</td>\n",
       "      <td>-0.470426</td>\n",
       "    </tr>\n",
       "    <tr>\n",
       "      <th>767</th>\n",
       "      <td>1</td>\n",
       "      <td>93</td>\n",
       "      <td>70</td>\n",
       "      <td>31</td>\n",
       "      <td>0</td>\n",
       "      <td>30.4</td>\n",
       "      <td>0.315</td>\n",
       "      <td>23</td>\n",
       "      <td>0</td>\n",
       "      <td>-0.201997</td>\n",
       "      <td>0.046215</td>\n",
       "    </tr>\n",
       "  </tbody>\n",
       "</table>\n",
       "<p>768 rows × 11 columns</p>\n",
       "</div>"
      ],
      "text/plain": [
       "     Pregnancies  Glucose  BloodPressure  SkinThickness  Insulin   BMI  \\\n",
       "0              6      148             72             35        0  33.6   \n",
       "1              1       85             66             29        0  26.6   \n",
       "2              8      183             64              0        0  23.3   \n",
       "3              1       89             66             23       94  28.1   \n",
       "4              0      137             40             35      168  43.1   \n",
       "..           ...      ...            ...            ...      ...   ...   \n",
       "763           10      101             76             48      180  32.9   \n",
       "764            2      122             70             27        0  36.8   \n",
       "765            5      121             72             23      112  26.2   \n",
       "766            1      126             60              0        0  30.1   \n",
       "767            1       93             70             31        0  30.4   \n",
       "\n",
       "     DiabetesPedigreeFunction  Age  Outcome  z-score-BMI  \\\n",
       "0                       0.627   50        1     0.203880   \n",
       "1                       0.351   31        0    -0.683976   \n",
       "2                       0.672   32        1    -1.102537   \n",
       "3                       0.167   21        0    -0.493721   \n",
       "4                       2.288   33        1     1.408828   \n",
       "..                        ...  ...      ...          ...   \n",
       "763                     0.171   63        0     0.115094   \n",
       "764                     0.340   27        0     0.609757   \n",
       "765                     0.245   30        0    -0.734711   \n",
       "766                     0.349   47        1    -0.240048   \n",
       "767                     0.315   23        0    -0.201997   \n",
       "\n",
       "     z-score-Blood-Pressure  \n",
       "0                  0.149543  \n",
       "1                 -0.160441  \n",
       "2                 -0.263769  \n",
       "3                 -0.160441  \n",
       "4                 -1.503707  \n",
       "..                      ...  \n",
       "763                0.356200  \n",
       "764                0.046215  \n",
       "765                0.149543  \n",
       "766               -0.470426  \n",
       "767                0.046215  \n",
       "\n",
       "[768 rows x 11 columns]"
      ]
     },
     "execution_count": 38,
     "metadata": {},
     "output_type": "execute_result"
    }
   ],
   "source": [
    "# BMI z score calculation\n",
    "df_diabetes['z-score-BMI'] = (df_diabetes.BMI - df_diabetes.BMI.mean()) / df_diabetes.BMI.std()\n",
    "\n",
    "# Blood Pressure z score calculation\n",
    "df_diabetes['z-score-Blood-Pressure'] = (df_diabetes.BloodPressure - df_diabetes.BloodPressure.mean()) / df_diabetes.BloodPressure.std()"
   ]
  },
  {
   "cell_type": "code",
   "execution_count": 39,
   "id": "32b35991",
   "metadata": {},
   "outputs": [
    {
     "data": {
      "text/html": [
       "<div>\n",
       "<style scoped>\n",
       "    .dataframe tbody tr th:only-of-type {\n",
       "        vertical-align: middle;\n",
       "    }\n",
       "\n",
       "    .dataframe tbody tr th {\n",
       "        vertical-align: top;\n",
       "    }\n",
       "\n",
       "    .dataframe thead th {\n",
       "        text-align: right;\n",
       "    }\n",
       "</style>\n",
       "<table border=\"1\" class=\"dataframe\">\n",
       "  <thead>\n",
       "    <tr style=\"text-align: right;\">\n",
       "      <th></th>\n",
       "      <th>Pregnancies</th>\n",
       "      <th>Glucose</th>\n",
       "      <th>BloodPressure</th>\n",
       "      <th>SkinThickness</th>\n",
       "      <th>Insulin</th>\n",
       "      <th>BMI</th>\n",
       "      <th>DiabetesPedigreeFunction</th>\n",
       "      <th>Age</th>\n",
       "      <th>Outcome</th>\n",
       "      <th>z-score-BMI</th>\n",
       "      <th>z-score-Blood-Pressure</th>\n",
       "    </tr>\n",
       "  </thead>\n",
       "  <tbody>\n",
       "    <tr>\n",
       "      <th>9</th>\n",
       "      <td>8</td>\n",
       "      <td>125</td>\n",
       "      <td>96</td>\n",
       "      <td>0</td>\n",
       "      <td>0</td>\n",
       "      <td>0.0</td>\n",
       "      <td>0.232</td>\n",
       "      <td>54</td>\n",
       "      <td>1</td>\n",
       "      <td>-4.057829</td>\n",
       "      <td>1.389481</td>\n",
       "    </tr>\n",
       "    <tr>\n",
       "      <th>49</th>\n",
       "      <td>7</td>\n",
       "      <td>105</td>\n",
       "      <td>0</td>\n",
       "      <td>0</td>\n",
       "      <td>0</td>\n",
       "      <td>0.0</td>\n",
       "      <td>0.305</td>\n",
       "      <td>24</td>\n",
       "      <td>0</td>\n",
       "      <td>-4.057829</td>\n",
       "      <td>-3.570271</td>\n",
       "    </tr>\n",
       "    <tr>\n",
       "      <th>60</th>\n",
       "      <td>2</td>\n",
       "      <td>84</td>\n",
       "      <td>0</td>\n",
       "      <td>0</td>\n",
       "      <td>0</td>\n",
       "      <td>0.0</td>\n",
       "      <td>0.304</td>\n",
       "      <td>21</td>\n",
       "      <td>0</td>\n",
       "      <td>-4.057829</td>\n",
       "      <td>-3.570271</td>\n",
       "    </tr>\n",
       "    <tr>\n",
       "      <th>81</th>\n",
       "      <td>2</td>\n",
       "      <td>74</td>\n",
       "      <td>0</td>\n",
       "      <td>0</td>\n",
       "      <td>0</td>\n",
       "      <td>0.0</td>\n",
       "      <td>0.102</td>\n",
       "      <td>22</td>\n",
       "      <td>0</td>\n",
       "      <td>-4.057829</td>\n",
       "      <td>-3.570271</td>\n",
       "    </tr>\n",
       "    <tr>\n",
       "      <th>145</th>\n",
       "      <td>0</td>\n",
       "      <td>102</td>\n",
       "      <td>75</td>\n",
       "      <td>23</td>\n",
       "      <td>0</td>\n",
       "      <td>0.0</td>\n",
       "      <td>0.572</td>\n",
       "      <td>21</td>\n",
       "      <td>0</td>\n",
       "      <td>-4.057829</td>\n",
       "      <td>0.304536</td>\n",
       "    </tr>\n",
       "    <tr>\n",
       "      <th>177</th>\n",
       "      <td>0</td>\n",
       "      <td>129</td>\n",
       "      <td>110</td>\n",
       "      <td>46</td>\n",
       "      <td>130</td>\n",
       "      <td>67.1</td>\n",
       "      <td>0.319</td>\n",
       "      <td>26</td>\n",
       "      <td>1</td>\n",
       "      <td>4.452906</td>\n",
       "      <td>2.112778</td>\n",
       "    </tr>\n",
       "    <tr>\n",
       "      <th>371</th>\n",
       "      <td>0</td>\n",
       "      <td>118</td>\n",
       "      <td>64</td>\n",
       "      <td>23</td>\n",
       "      <td>89</td>\n",
       "      <td>0.0</td>\n",
       "      <td>1.731</td>\n",
       "      <td>21</td>\n",
       "      <td>0</td>\n",
       "      <td>-4.057829</td>\n",
       "      <td>-0.263769</td>\n",
       "    </tr>\n",
       "    <tr>\n",
       "      <th>426</th>\n",
       "      <td>0</td>\n",
       "      <td>94</td>\n",
       "      <td>0</td>\n",
       "      <td>0</td>\n",
       "      <td>0</td>\n",
       "      <td>0.0</td>\n",
       "      <td>0.256</td>\n",
       "      <td>25</td>\n",
       "      <td>0</td>\n",
       "      <td>-4.057829</td>\n",
       "      <td>-3.570271</td>\n",
       "    </tr>\n",
       "    <tr>\n",
       "      <th>445</th>\n",
       "      <td>0</td>\n",
       "      <td>180</td>\n",
       "      <td>78</td>\n",
       "      <td>63</td>\n",
       "      <td>14</td>\n",
       "      <td>59.4</td>\n",
       "      <td>2.420</td>\n",
       "      <td>25</td>\n",
       "      <td>1</td>\n",
       "      <td>3.476264</td>\n",
       "      <td>0.459528</td>\n",
       "    </tr>\n",
       "    <tr>\n",
       "      <th>494</th>\n",
       "      <td>3</td>\n",
       "      <td>80</td>\n",
       "      <td>0</td>\n",
       "      <td>0</td>\n",
       "      <td>0</td>\n",
       "      <td>0.0</td>\n",
       "      <td>0.174</td>\n",
       "      <td>22</td>\n",
       "      <td>0</td>\n",
       "      <td>-4.057829</td>\n",
       "      <td>-3.570271</td>\n",
       "    </tr>\n",
       "    <tr>\n",
       "      <th>522</th>\n",
       "      <td>6</td>\n",
       "      <td>114</td>\n",
       "      <td>0</td>\n",
       "      <td>0</td>\n",
       "      <td>0</td>\n",
       "      <td>0.0</td>\n",
       "      <td>0.189</td>\n",
       "      <td>26</td>\n",
       "      <td>0</td>\n",
       "      <td>-4.057829</td>\n",
       "      <td>-3.570271</td>\n",
       "    </tr>\n",
       "    <tr>\n",
       "      <th>673</th>\n",
       "      <td>3</td>\n",
       "      <td>123</td>\n",
       "      <td>100</td>\n",
       "      <td>35</td>\n",
       "      <td>240</td>\n",
       "      <td>57.3</td>\n",
       "      <td>0.880</td>\n",
       "      <td>22</td>\n",
       "      <td>0</td>\n",
       "      <td>3.209907</td>\n",
       "      <td>1.596138</td>\n",
       "    </tr>\n",
       "    <tr>\n",
       "      <th>684</th>\n",
       "      <td>5</td>\n",
       "      <td>136</td>\n",
       "      <td>82</td>\n",
       "      <td>0</td>\n",
       "      <td>0</td>\n",
       "      <td>0.0</td>\n",
       "      <td>0.640</td>\n",
       "      <td>69</td>\n",
       "      <td>0</td>\n",
       "      <td>-4.057829</td>\n",
       "      <td>0.666184</td>\n",
       "    </tr>\n",
       "    <tr>\n",
       "      <th>706</th>\n",
       "      <td>10</td>\n",
       "      <td>115</td>\n",
       "      <td>0</td>\n",
       "      <td>0</td>\n",
       "      <td>0</td>\n",
       "      <td>0.0</td>\n",
       "      <td>0.261</td>\n",
       "      <td>30</td>\n",
       "      <td>1</td>\n",
       "      <td>-4.057829</td>\n",
       "      <td>-3.570271</td>\n",
       "    </tr>\n",
       "  </tbody>\n",
       "</table>\n",
       "</div>"
      ],
      "text/plain": [
       "     Pregnancies  Glucose  BloodPressure  SkinThickness  Insulin   BMI  \\\n",
       "9              8      125             96              0        0   0.0   \n",
       "49             7      105              0              0        0   0.0   \n",
       "60             2       84              0              0        0   0.0   \n",
       "81             2       74              0              0        0   0.0   \n",
       "145            0      102             75             23        0   0.0   \n",
       "177            0      129            110             46      130  67.1   \n",
       "371            0      118             64             23       89   0.0   \n",
       "426            0       94              0              0        0   0.0   \n",
       "445            0      180             78             63       14  59.4   \n",
       "494            3       80              0              0        0   0.0   \n",
       "522            6      114              0              0        0   0.0   \n",
       "673            3      123            100             35      240  57.3   \n",
       "684            5      136             82              0        0   0.0   \n",
       "706           10      115              0              0        0   0.0   \n",
       "\n",
       "     DiabetesPedigreeFunction  Age  Outcome  z-score-BMI  \\\n",
       "9                       0.232   54        1    -4.057829   \n",
       "49                      0.305   24        0    -4.057829   \n",
       "60                      0.304   21        0    -4.057829   \n",
       "81                      0.102   22        0    -4.057829   \n",
       "145                     0.572   21        0    -4.057829   \n",
       "177                     0.319   26        1     4.452906   \n",
       "371                     1.731   21        0    -4.057829   \n",
       "426                     0.256   25        0    -4.057829   \n",
       "445                     2.420   25        1     3.476264   \n",
       "494                     0.174   22        0    -4.057829   \n",
       "522                     0.189   26        0    -4.057829   \n",
       "673                     0.880   22        0     3.209907   \n",
       "684                     0.640   69        0    -4.057829   \n",
       "706                     0.261   30        1    -4.057829   \n",
       "\n",
       "     z-score-Blood-Pressure  \n",
       "9                  1.389481  \n",
       "49                -3.570271  \n",
       "60                -3.570271  \n",
       "81                -3.570271  \n",
       "145                0.304536  \n",
       "177                2.112778  \n",
       "371               -0.263769  \n",
       "426               -3.570271  \n",
       "445                0.459528  \n",
       "494               -3.570271  \n",
       "522               -3.570271  \n",
       "673                1.596138  \n",
       "684                0.666184  \n",
       "706               -3.570271  "
      ]
     },
     "execution_count": 39,
     "metadata": {},
     "output_type": "execute_result"
    }
   ],
   "source": [
    "# Listing outliers based off z-score parameters\n",
    "outlier_BMI = df_diabetes[(df_diabetes['z-score-BMI'] > 3) | (df_diabetes['z-score-BMI'] < -3)]\n",
    "outlier_BMI"
   ]
  },
  {
   "cell_type": "code",
   "execution_count": 42,
   "id": "d582f206",
   "metadata": {},
   "outputs": [
    {
     "data": {
      "text/html": [
       "<div>\n",
       "<style scoped>\n",
       "    .dataframe tbody tr th:only-of-type {\n",
       "        vertical-align: middle;\n",
       "    }\n",
       "\n",
       "    .dataframe tbody tr th {\n",
       "        vertical-align: top;\n",
       "    }\n",
       "\n",
       "    .dataframe thead th {\n",
       "        text-align: right;\n",
       "    }\n",
       "</style>\n",
       "<table border=\"1\" class=\"dataframe\">\n",
       "  <thead>\n",
       "    <tr style=\"text-align: right;\">\n",
       "      <th></th>\n",
       "      <th>Pregnancies</th>\n",
       "      <th>Glucose</th>\n",
       "      <th>BloodPressure</th>\n",
       "      <th>SkinThickness</th>\n",
       "      <th>Insulin</th>\n",
       "      <th>BMI</th>\n",
       "      <th>DiabetesPedigreeFunction</th>\n",
       "      <th>Age</th>\n",
       "      <th>Outcome</th>\n",
       "      <th>z-score-BMI</th>\n",
       "      <th>z-score-Blood-Pressure</th>\n",
       "    </tr>\n",
       "  </thead>\n",
       "  <tbody>\n",
       "    <tr>\n",
       "      <th>0</th>\n",
       "      <td>6</td>\n",
       "      <td>148</td>\n",
       "      <td>72</td>\n",
       "      <td>35</td>\n",
       "      <td>0</td>\n",
       "      <td>33.6</td>\n",
       "      <td>0.627</td>\n",
       "      <td>50</td>\n",
       "      <td>1</td>\n",
       "      <td>0.203880</td>\n",
       "      <td>0.149543</td>\n",
       "    </tr>\n",
       "    <tr>\n",
       "      <th>1</th>\n",
       "      <td>1</td>\n",
       "      <td>85</td>\n",
       "      <td>66</td>\n",
       "      <td>29</td>\n",
       "      <td>0</td>\n",
       "      <td>26.6</td>\n",
       "      <td>0.351</td>\n",
       "      <td>31</td>\n",
       "      <td>0</td>\n",
       "      <td>-0.683976</td>\n",
       "      <td>-0.160441</td>\n",
       "    </tr>\n",
       "    <tr>\n",
       "      <th>2</th>\n",
       "      <td>8</td>\n",
       "      <td>183</td>\n",
       "      <td>64</td>\n",
       "      <td>0</td>\n",
       "      <td>0</td>\n",
       "      <td>23.3</td>\n",
       "      <td>0.672</td>\n",
       "      <td>32</td>\n",
       "      <td>1</td>\n",
       "      <td>-1.102537</td>\n",
       "      <td>-0.263769</td>\n",
       "    </tr>\n",
       "    <tr>\n",
       "      <th>3</th>\n",
       "      <td>1</td>\n",
       "      <td>89</td>\n",
       "      <td>66</td>\n",
       "      <td>23</td>\n",
       "      <td>94</td>\n",
       "      <td>28.1</td>\n",
       "      <td>0.167</td>\n",
       "      <td>21</td>\n",
       "      <td>0</td>\n",
       "      <td>-0.493721</td>\n",
       "      <td>-0.160441</td>\n",
       "    </tr>\n",
       "    <tr>\n",
       "      <th>4</th>\n",
       "      <td>0</td>\n",
       "      <td>137</td>\n",
       "      <td>40</td>\n",
       "      <td>35</td>\n",
       "      <td>168</td>\n",
       "      <td>43.1</td>\n",
       "      <td>2.288</td>\n",
       "      <td>33</td>\n",
       "      <td>1</td>\n",
       "      <td>1.408828</td>\n",
       "      <td>-1.503707</td>\n",
       "    </tr>\n",
       "    <tr>\n",
       "      <th>...</th>\n",
       "      <td>...</td>\n",
       "      <td>...</td>\n",
       "      <td>...</td>\n",
       "      <td>...</td>\n",
       "      <td>...</td>\n",
       "      <td>...</td>\n",
       "      <td>...</td>\n",
       "      <td>...</td>\n",
       "      <td>...</td>\n",
       "      <td>...</td>\n",
       "      <td>...</td>\n",
       "    </tr>\n",
       "    <tr>\n",
       "      <th>763</th>\n",
       "      <td>10</td>\n",
       "      <td>101</td>\n",
       "      <td>76</td>\n",
       "      <td>48</td>\n",
       "      <td>180</td>\n",
       "      <td>32.9</td>\n",
       "      <td>0.171</td>\n",
       "      <td>63</td>\n",
       "      <td>0</td>\n",
       "      <td>0.115094</td>\n",
       "      <td>0.356200</td>\n",
       "    </tr>\n",
       "    <tr>\n",
       "      <th>764</th>\n",
       "      <td>2</td>\n",
       "      <td>122</td>\n",
       "      <td>70</td>\n",
       "      <td>27</td>\n",
       "      <td>0</td>\n",
       "      <td>36.8</td>\n",
       "      <td>0.340</td>\n",
       "      <td>27</td>\n",
       "      <td>0</td>\n",
       "      <td>0.609757</td>\n",
       "      <td>0.046215</td>\n",
       "    </tr>\n",
       "    <tr>\n",
       "      <th>765</th>\n",
       "      <td>5</td>\n",
       "      <td>121</td>\n",
       "      <td>72</td>\n",
       "      <td>23</td>\n",
       "      <td>112</td>\n",
       "      <td>26.2</td>\n",
       "      <td>0.245</td>\n",
       "      <td>30</td>\n",
       "      <td>0</td>\n",
       "      <td>-0.734711</td>\n",
       "      <td>0.149543</td>\n",
       "    </tr>\n",
       "    <tr>\n",
       "      <th>766</th>\n",
       "      <td>1</td>\n",
       "      <td>126</td>\n",
       "      <td>60</td>\n",
       "      <td>0</td>\n",
       "      <td>0</td>\n",
       "      <td>30.1</td>\n",
       "      <td>0.349</td>\n",
       "      <td>47</td>\n",
       "      <td>1</td>\n",
       "      <td>-0.240048</td>\n",
       "      <td>-0.470426</td>\n",
       "    </tr>\n",
       "    <tr>\n",
       "      <th>767</th>\n",
       "      <td>1</td>\n",
       "      <td>93</td>\n",
       "      <td>70</td>\n",
       "      <td>31</td>\n",
       "      <td>0</td>\n",
       "      <td>30.4</td>\n",
       "      <td>0.315</td>\n",
       "      <td>23</td>\n",
       "      <td>0</td>\n",
       "      <td>-0.201997</td>\n",
       "      <td>0.046215</td>\n",
       "    </tr>\n",
       "  </tbody>\n",
       "</table>\n",
       "<p>757 rows × 11 columns</p>\n",
       "</div>"
      ],
      "text/plain": [
       "     Pregnancies  Glucose  BloodPressure  SkinThickness  Insulin   BMI  \\\n",
       "0              6      148             72             35        0  33.6   \n",
       "1              1       85             66             29        0  26.6   \n",
       "2              8      183             64              0        0  23.3   \n",
       "3              1       89             66             23       94  28.1   \n",
       "4              0      137             40             35      168  43.1   \n",
       "..           ...      ...            ...            ...      ...   ...   \n",
       "763           10      101             76             48      180  32.9   \n",
       "764            2      122             70             27        0  36.8   \n",
       "765            5      121             72             23      112  26.2   \n",
       "766            1      126             60              0        0  30.1   \n",
       "767            1       93             70             31        0  30.4   \n",
       "\n",
       "     DiabetesPedigreeFunction  Age  Outcome  z-score-BMI  \\\n",
       "0                       0.627   50        1     0.203880   \n",
       "1                       0.351   31        0    -0.683976   \n",
       "2                       0.672   32        1    -1.102537   \n",
       "3                       0.167   21        0    -0.493721   \n",
       "4                       2.288   33        1     1.408828   \n",
       "..                        ...  ...      ...          ...   \n",
       "763                     0.171   63        0     0.115094   \n",
       "764                     0.340   27        0     0.609757   \n",
       "765                     0.245   30        0    -0.734711   \n",
       "766                     0.349   47        1    -0.240048   \n",
       "767                     0.315   23        0    -0.201997   \n",
       "\n",
       "     z-score-Blood-Pressure  \n",
       "0                  0.149543  \n",
       "1                 -0.160441  \n",
       "2                 -0.263769  \n",
       "3                 -0.160441  \n",
       "4                 -1.503707  \n",
       "..                      ...  \n",
       "763                0.356200  \n",
       "764                0.046215  \n",
       "765                0.149543  \n",
       "766               -0.470426  \n",
       "767                0.046215  \n",
       "\n",
       "[757 rows x 11 columns]"
      ]
     },
     "execution_count": 42,
     "metadata": {},
     "output_type": "execute_result"
    }
   ],
   "source": [
    "# Dropping data points with BMI = 0\n",
    "norm_data = df_diabetes.loc[(df_diabetes['z-score-BMI'] < 3) & (df_diabetes['z-score-BMI'] > -3)]\n",
    "norm_data = df_diabetes[df_diabetes.BMI != 0]"
   ]
  },
  {
   "cell_type": "code",
   "execution_count": 44,
   "id": "f8362db2",
   "metadata": {
    "scrolled": true
   },
   "outputs": [
    {
     "data": {
      "text/html": [
       "<div>\n",
       "<style scoped>\n",
       "    .dataframe tbody tr th:only-of-type {\n",
       "        vertical-align: middle;\n",
       "    }\n",
       "\n",
       "    .dataframe tbody tr th {\n",
       "        vertical-align: top;\n",
       "    }\n",
       "\n",
       "    .dataframe thead th {\n",
       "        text-align: right;\n",
       "    }\n",
       "</style>\n",
       "<table border=\"1\" class=\"dataframe\">\n",
       "  <thead>\n",
       "    <tr style=\"text-align: right;\">\n",
       "      <th></th>\n",
       "      <th>Pregnancies</th>\n",
       "      <th>Glucose</th>\n",
       "      <th>BloodPressure</th>\n",
       "      <th>SkinThickness</th>\n",
       "      <th>Insulin</th>\n",
       "      <th>BMI</th>\n",
       "      <th>DiabetesPedigreeFunction</th>\n",
       "      <th>Age</th>\n",
       "      <th>Outcome</th>\n",
       "      <th>z-score-BMI</th>\n",
       "      <th>z-score-Blood-Pressure</th>\n",
       "    </tr>\n",
       "  </thead>\n",
       "  <tbody>\n",
       "    <tr>\n",
       "      <th>0</th>\n",
       "      <td>6</td>\n",
       "      <td>148</td>\n",
       "      <td>72</td>\n",
       "      <td>35</td>\n",
       "      <td>0</td>\n",
       "      <td>33.6</td>\n",
       "      <td>0.627</td>\n",
       "      <td>50</td>\n",
       "      <td>1</td>\n",
       "      <td>0.203880</td>\n",
       "      <td>0.149543</td>\n",
       "    </tr>\n",
       "    <tr>\n",
       "      <th>1</th>\n",
       "      <td>1</td>\n",
       "      <td>85</td>\n",
       "      <td>66</td>\n",
       "      <td>29</td>\n",
       "      <td>0</td>\n",
       "      <td>26.6</td>\n",
       "      <td>0.351</td>\n",
       "      <td>31</td>\n",
       "      <td>0</td>\n",
       "      <td>-0.683976</td>\n",
       "      <td>-0.160441</td>\n",
       "    </tr>\n",
       "    <tr>\n",
       "      <th>2</th>\n",
       "      <td>8</td>\n",
       "      <td>183</td>\n",
       "      <td>64</td>\n",
       "      <td>0</td>\n",
       "      <td>0</td>\n",
       "      <td>23.3</td>\n",
       "      <td>0.672</td>\n",
       "      <td>32</td>\n",
       "      <td>1</td>\n",
       "      <td>-1.102537</td>\n",
       "      <td>-0.263769</td>\n",
       "    </tr>\n",
       "    <tr>\n",
       "      <th>5</th>\n",
       "      <td>5</td>\n",
       "      <td>116</td>\n",
       "      <td>74</td>\n",
       "      <td>0</td>\n",
       "      <td>0</td>\n",
       "      <td>25.6</td>\n",
       "      <td>0.201</td>\n",
       "      <td>30</td>\n",
       "      <td>0</td>\n",
       "      <td>-0.810813</td>\n",
       "      <td>0.252871</td>\n",
       "    </tr>\n",
       "    <tr>\n",
       "      <th>7</th>\n",
       "      <td>10</td>\n",
       "      <td>115</td>\n",
       "      <td>0</td>\n",
       "      <td>0</td>\n",
       "      <td>0</td>\n",
       "      <td>35.3</td>\n",
       "      <td>0.134</td>\n",
       "      <td>29</td>\n",
       "      <td>0</td>\n",
       "      <td>0.419502</td>\n",
       "      <td>-3.570271</td>\n",
       "    </tr>\n",
       "    <tr>\n",
       "      <th>...</th>\n",
       "      <td>...</td>\n",
       "      <td>...</td>\n",
       "      <td>...</td>\n",
       "      <td>...</td>\n",
       "      <td>...</td>\n",
       "      <td>...</td>\n",
       "      <td>...</td>\n",
       "      <td>...</td>\n",
       "      <td>...</td>\n",
       "      <td>...</td>\n",
       "      <td>...</td>\n",
       "    </tr>\n",
       "    <tr>\n",
       "      <th>761</th>\n",
       "      <td>9</td>\n",
       "      <td>170</td>\n",
       "      <td>74</td>\n",
       "      <td>31</td>\n",
       "      <td>0</td>\n",
       "      <td>44.0</td>\n",
       "      <td>0.403</td>\n",
       "      <td>43</td>\n",
       "      <td>1</td>\n",
       "      <td>1.522980</td>\n",
       "      <td>0.252871</td>\n",
       "    </tr>\n",
       "    <tr>\n",
       "      <th>762</th>\n",
       "      <td>9</td>\n",
       "      <td>89</td>\n",
       "      <td>62</td>\n",
       "      <td>0</td>\n",
       "      <td>0</td>\n",
       "      <td>22.5</td>\n",
       "      <td>0.142</td>\n",
       "      <td>33</td>\n",
       "      <td>0</td>\n",
       "      <td>-1.204006</td>\n",
       "      <td>-0.367098</td>\n",
       "    </tr>\n",
       "    <tr>\n",
       "      <th>764</th>\n",
       "      <td>2</td>\n",
       "      <td>122</td>\n",
       "      <td>70</td>\n",
       "      <td>27</td>\n",
       "      <td>0</td>\n",
       "      <td>36.8</td>\n",
       "      <td>0.340</td>\n",
       "      <td>27</td>\n",
       "      <td>0</td>\n",
       "      <td>0.609757</td>\n",
       "      <td>0.046215</td>\n",
       "    </tr>\n",
       "    <tr>\n",
       "      <th>766</th>\n",
       "      <td>1</td>\n",
       "      <td>126</td>\n",
       "      <td>60</td>\n",
       "      <td>0</td>\n",
       "      <td>0</td>\n",
       "      <td>30.1</td>\n",
       "      <td>0.349</td>\n",
       "      <td>47</td>\n",
       "      <td>1</td>\n",
       "      <td>-0.240048</td>\n",
       "      <td>-0.470426</td>\n",
       "    </tr>\n",
       "    <tr>\n",
       "      <th>767</th>\n",
       "      <td>1</td>\n",
       "      <td>93</td>\n",
       "      <td>70</td>\n",
       "      <td>31</td>\n",
       "      <td>0</td>\n",
       "      <td>30.4</td>\n",
       "      <td>0.315</td>\n",
       "      <td>23</td>\n",
       "      <td>0</td>\n",
       "      <td>-0.201997</td>\n",
       "      <td>0.046215</td>\n",
       "    </tr>\n",
       "  </tbody>\n",
       "</table>\n",
       "<p>374 rows × 11 columns</p>\n",
       "</div>"
      ],
      "text/plain": [
       "     Pregnancies  Glucose  BloodPressure  SkinThickness  Insulin   BMI  \\\n",
       "0              6      148             72             35        0  33.6   \n",
       "1              1       85             66             29        0  26.6   \n",
       "2              8      183             64              0        0  23.3   \n",
       "5              5      116             74              0        0  25.6   \n",
       "7             10      115              0              0        0  35.3   \n",
       "..           ...      ...            ...            ...      ...   ...   \n",
       "761            9      170             74             31        0  44.0   \n",
       "762            9       89             62              0        0  22.5   \n",
       "764            2      122             70             27        0  36.8   \n",
       "766            1      126             60              0        0  30.1   \n",
       "767            1       93             70             31        0  30.4   \n",
       "\n",
       "     DiabetesPedigreeFunction  Age  Outcome  z-score-BMI  \\\n",
       "0                       0.627   50        1     0.203880   \n",
       "1                       0.351   31        0    -0.683976   \n",
       "2                       0.672   32        1    -1.102537   \n",
       "5                       0.201   30        0    -0.810813   \n",
       "7                       0.134   29        0     0.419502   \n",
       "..                        ...  ...      ...          ...   \n",
       "761                     0.403   43        1     1.522980   \n",
       "762                     0.142   33        0    -1.204006   \n",
       "764                     0.340   27        0     0.609757   \n",
       "766                     0.349   47        1    -0.240048   \n",
       "767                     0.315   23        0    -0.201997   \n",
       "\n",
       "     z-score-Blood-Pressure  \n",
       "0                  0.149543  \n",
       "1                 -0.160441  \n",
       "2                 -0.263769  \n",
       "5                  0.252871  \n",
       "7                 -3.570271  \n",
       "..                      ...  \n",
       "761                0.252871  \n",
       "762               -0.367098  \n",
       "764                0.046215  \n",
       "766               -0.470426  \n",
       "767                0.046215  \n",
       "\n",
       "[374 rows x 11 columns]"
      ]
     },
     "execution_count": 44,
     "metadata": {},
     "output_type": "execute_result"
    }
   ],
   "source": [
    "# Finding instances where Insulin = 0\n",
    "insulin_zero = df_diabetes.loc[df_diabetes['Insulin'] == 0]\n",
    "insulin_zero"
   ]
  },
  {
   "cell_type": "markdown",
   "id": "e20fae03",
   "metadata": {},
   "source": [
    "# Logistic Regression Model Building"
   ]
  },
  {
   "cell_type": "code",
   "execution_count": 47,
   "id": "3867f8c5",
   "metadata": {},
   "outputs": [],
   "source": [
    "# Importing of train-test-split module\n",
    "from sklearn.model_selection import train_test_split"
   ]
  },
  {
   "cell_type": "code",
   "execution_count": 48,
   "id": "c8a5e5b8",
   "metadata": {},
   "outputs": [],
   "source": [
    "# Importing of linear_model from sklearn\n",
    "from sklearn import linear_model"
   ]
  },
  {
   "cell_type": "code",
   "execution_count": 76,
   "id": "5a6da2cd",
   "metadata": {},
   "outputs": [
    {
     "data": {
      "text/plain": [
       "['Pregnancies',\n",
       " 'Glucose',\n",
       " 'BloodPressure',\n",
       " 'SkinThickness',\n",
       " 'Insulin',\n",
       " 'BMI',\n",
       " 'DiabetesPedigreeFunction',\n",
       " 'Age']"
      ]
     },
     "execution_count": 76,
     "metadata": {},
     "output_type": "execute_result"
    }
   ],
   "source": [
    "# Creation and preparation of features list for correlation analysis\n",
    "features = list(df_diabetes.columns.values)\n",
    "features.remove('Outcome')\n",
    "features.remove('z-score-BMI')\n",
    "features.remove('z-score-Blood-Pressure')\n",
    "features"
   ]
  },
  {
   "cell_type": "code",
   "execution_count": 77,
   "id": "751c4d7f",
   "metadata": {},
   "outputs": [
    {
     "name": "stdout",
     "output_type": "stream",
     "text": [
      "Pregnancies 0.2218981530339867\n",
      "Glucose 0.4665813983068738\n",
      "BloodPressure 0.0650683595503328\n",
      "SkinThickness 0.07475223191831938\n",
      "Insulin 0.13054795488404786\n",
      "BMI 0.2926946626444453\n",
      "DiabetesPedigreeFunction 0.17384406565295996\n",
      "Age 0.23835598302719752\n"
     ]
    }
   ],
   "source": [
    "# Finding Correlation between outcome and all features\n",
    "index = 0\n",
    "for feature in features:\n",
    "    correlation = np.corrcoef(df_diabetes[features[index]], df_diabetes.Outcome)[0,1]\n",
    "    print(features[index], correlation)\n",
    "    index += 1"
   ]
  },
  {
   "cell_type": "code",
   "execution_count": 79,
   "id": "a7d90fae",
   "metadata": {},
   "outputs": [],
   "source": [
    "# Top features highly correlating with diabetes outcome\n",
    "top_features = ['Pregnancies', 'Glucose', 'Age', 'BMI']"
   ]
  },
  {
   "cell_type": "code",
   "execution_count": 85,
   "id": "2b17852c",
   "metadata": {},
   "outputs": [],
   "source": [
    "# List comprehension finding correlation between feature 'pregnancies' and other features\n",
    "pregnancy_correlations = [np.corrcoef(df_diabetes['Pregnancies'], df_diabetes[x])[0,1] for x in top_features]"
   ]
  },
  {
   "cell_type": "code",
   "execution_count": 86,
   "id": "61f25afa",
   "metadata": {},
   "outputs": [
    {
     "data": {
      "text/plain": [
       "[1.0, 0.12945867149927245, 0.5443412284023389, 0.01768309072783063]"
      ]
     },
     "execution_count": 86,
     "metadata": {},
     "output_type": "execute_result"
    }
   ],
   "source": [
    "# 'pregnancies' correlations with other features. Note 1.0 is 'pregnancies' correlating with itself\n",
    "pregnancy_correlations"
   ]
  },
  {
   "cell_type": "code",
   "execution_count": 89,
   "id": "243796c7",
   "metadata": {},
   "outputs": [
    {
     "data": {
      "text/plain": [
       "0.26351431982433354"
      ]
     },
     "execution_count": 89,
     "metadata": {},
     "output_type": "execute_result"
    }
   ],
   "source": [
    "# Correlation between Glucose and Age\n",
    "np.corrcoef(df_diabetes['Glucose'], df_diabetes['Age'])[0,1]"
   ]
  },
  {
   "cell_type": "code",
   "execution_count": 90,
   "id": "57587bbb",
   "metadata": {},
   "outputs": [
    {
     "data": {
      "text/plain": [
       "0.22107106945898297"
      ]
     },
     "execution_count": 90,
     "metadata": {},
     "output_type": "execute_result"
    }
   ],
   "source": [
    "# Correlation between Glucose and BMI\n",
    "np.corrcoef(df_diabetes['Glucose'], df_diabetes['BMI'])[0,1]"
   ]
  },
  {
   "cell_type": "code",
   "execution_count": 92,
   "id": "6bcdf8fc",
   "metadata": {},
   "outputs": [
    {
     "data": {
      "text/plain": [
       "0.03624187009229413"
      ]
     },
     "execution_count": 92,
     "metadata": {},
     "output_type": "execute_result"
    }
   ],
   "source": [
    "# Correlation between Age and BMI\n",
    "np.corrcoef(df_diabetes['Age'], df_diabetes['BMI'])[0,1]"
   ]
  },
  {
   "cell_type": "code",
   "execution_count": 61,
   "id": "6b83b0b1",
   "metadata": {},
   "outputs": [],
   "source": [
    "# Splitting data into test and train sets\n",
    "x_train, x_test, y_train, y_test = train_test_split(df_diabetes[['Glucose', 'BMI', 'Age', 'Pregnancies']], df_diabetes.Outcome, train_size = 0.8)"
   ]
  },
  {
   "cell_type": "code",
   "execution_count": 62,
   "id": "bc2fe3cb",
   "metadata": {},
   "outputs": [],
   "source": [
    "# Creating logistic regression model\n",
    "new_model = linear_model.LogisticRegression()"
   ]
  },
  {
   "cell_type": "code",
   "execution_count": 63,
   "id": "1e381dec",
   "metadata": {},
   "outputs": [
    {
     "data": {
      "text/plain": [
       "LogisticRegression()"
      ]
     },
     "execution_count": 63,
     "metadata": {},
     "output_type": "execute_result"
    }
   ],
   "source": [
    "# Fitting model with train data\n",
    "new_model.fit(x_train, y_train)"
   ]
  },
  {
   "cell_type": "code",
   "execution_count": 64,
   "id": "ffb9b2b6",
   "metadata": {},
   "outputs": [
    {
     "data": {
      "text/plain": [
       "0.7727272727272727"
      ]
     },
     "execution_count": 64,
     "metadata": {},
     "output_type": "execute_result"
    }
   ],
   "source": [
    "# Model score\n",
    "new_model.score(x_test, y_test)"
   ]
  },
  {
   "cell_type": "code",
   "execution_count": 67,
   "id": "8c2ffa8a",
   "metadata": {},
   "outputs": [
    {
     "data": {
      "text/plain": [
       "614"
      ]
     },
     "execution_count": 67,
     "metadata": {},
     "output_type": "execute_result"
    }
   ],
   "source": [
    "# Training size\n",
    "len(x_train)"
   ]
  },
  {
   "cell_type": "code",
   "execution_count": 68,
   "id": "27cf8522",
   "metadata": {
    "scrolled": true
   },
   "outputs": [
    {
     "data": {
      "text/plain": [
       "154"
      ]
     },
     "execution_count": 68,
     "metadata": {},
     "output_type": "execute_result"
    }
   ],
   "source": [
    "# Test size\n",
    "len(x_test)"
   ]
  },
  {
   "cell_type": "code",
   "execution_count": 69,
   "id": "e43f65f3",
   "metadata": {},
   "outputs": [
    {
     "data": {
      "text/plain": [
       "array([[93, 13],\n",
       "       [22, 26]])"
      ]
     },
     "execution_count": 69,
     "metadata": {},
     "output_type": "execute_result"
    }
   ],
   "source": [
    "# Constructing a confusion matrix\n",
    "from sklearn.metrics import confusion_matrix\n",
    "y_predicted = new_model.predict(x_test)\n",
    "cm = confusion_matrix(y_test, y_predicted)\n",
    "cm"
   ]
  },
  {
   "cell_type": "code",
   "execution_count": 70,
   "id": "ecc2b7d1",
   "metadata": {},
   "outputs": [
    {
     "data": {
      "text/plain": [
       "Text(33.0, 0.5, 'Truth')"
      ]
     },
     "execution_count": 70,
     "metadata": {},
     "output_type": "execute_result"
    },
    {
     "data": {
      "image/png": "[encoded data removed]",
      "text/plain": [
       "<Figure size 432x288 with 2 Axes>"
      ]
     },
     "metadata": {
      "needs_background": "light"
     },
     "output_type": "display_data"
    }
   ],
   "source": [
    "# Plotting of confusion matrix\n",
    "sns.heatmap(cm, annot=True)\n",
    "plt.xlabel('Prediction')\n",
    "plt.ylabel('Truth')"
   ]
  }
 ],
 "metadata": {
  "kernelspec": {
   "display_name": "Python 3 (ipykernel)",
   "language": "python",
   "name": "python3"
  },
  "language_info": {
   "codemirror_mode": {
    "name": "ipython",
    "version": 3
   },
   "file_extension": ".py",
   "mimetype": "text/x-python",
   "name": "python",
   "nbconvert_exporter": "python",
   "pygments_lexer": "ipython3",
   "version": "3.10.4"
  }
 },
 "nbformat": 4,
 "nbformat_minor": 5
}
